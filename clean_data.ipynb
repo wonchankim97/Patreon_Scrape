{
 "cells": [
  {
   "cell_type": "code",
   "execution_count": 13,
   "metadata": {},
   "outputs": [],
   "source": [
    "import pandas as pd\n",
    "import numpy as np\n",
    "import matplotlib.pyplot as plt\n",
    "import re\n",
    "\n",
    "from jupyterthemes import jtplot\n",
    "jtplot.style()"
   ]
  },
  {
   "cell_type": "code",
   "execution_count": 8,
   "metadata": {},
   "outputs": [],
   "source": [
    "pd.set_option('display.max_rows', 500)\n",
    "pd.set_option('display.max_columns', 500)"
   ]
  },
  {
   "cell_type": "code",
   "execution_count": 10,
   "metadata": {},
   "outputs": [],
   "source": [
    "# parse the date variables when loading in\n",
    "df = pd.read_csv('./userData.csv', parse_dates = ['joined', 'lastPosted', 'lastSeen'])"
   ]
  },
  {
   "cell_type": "code",
   "execution_count": 18,
   "metadata": {},
   "outputs": [
    {
     "data": {
      "text/html": [
       "<div>\n",
       "<style scoped>\n",
       "    .dataframe tbody tr th:only-of-type {\n",
       "        vertical-align: middle;\n",
       "    }\n",
       "\n",
       "    .dataframe tbody tr th {\n",
       "        vertical-align: top;\n",
       "    }\n",
       "\n",
       "    .dataframe thead th {\n",
       "        text-align: right;\n",
       "    }\n",
       "</style>\n",
       "<table border=\"1\" class=\"dataframe\">\n",
       "  <thead>\n",
       "    <tr style=\"text-align: right;\">\n",
       "      <th></th>\n",
       "      <th>username</th>\n",
       "      <th>fullName</th>\n",
       "      <th>title</th>\n",
       "      <th>location</th>\n",
       "      <th>website</th>\n",
       "      <th>bio</th>\n",
       "      <th>creatorType</th>\n",
       "      <th>patreonURL</th>\n",
       "      <th>joined</th>\n",
       "      <th>lastPosted</th>\n",
       "      <th>lastSeen</th>\n",
       "      <th>views</th>\n",
       "      <th>invitedBy</th>\n",
       "      <th>trustLevel</th>\n",
       "      <th>daysVisited</th>\n",
       "      <th>readTime</th>\n",
       "      <th>recentReadTime</th>\n",
       "      <th>topicsViewed</th>\n",
       "      <th>postsRead</th>\n",
       "      <th>likesGiven</th>\n",
       "      <th>topicsCreated</th>\n",
       "      <th>postsCreated</th>\n",
       "      <th>likesReceived</th>\n",
       "    </tr>\n",
       "  </thead>\n",
       "  <tbody>\n",
       "    <tr>\n",
       "      <th>0</th>\n",
       "      <td>mindy</td>\n",
       "      <td>Mindy</td>\n",
       "      <td>NaN</td>\n",
       "      <td>San Francisco</td>\n",
       "      <td>http://patreon.com/</td>\n",
       "      <td>Hi there! My name is Mindy and I work for Patr...</td>\n",
       "      <td>Head of Community, Patreon</td>\n",
       "      <td>patreon.com</td>\n",
       "      <td>2018-06-11 19:38:00</td>\n",
       "      <td>2020-07-23 20:43:00</td>\n",
       "      <td>2020-07-28 14:23:00</td>\n",
       "      <td>1651</td>\n",
       "      <td>carla</td>\n",
       "      <td>member</td>\n",
       "      <td>569</td>\n",
       "      <td>7d</td>\n",
       "      <td>NaN</td>\n",
       "      <td>2.0k</td>\n",
       "      <td>13.0k</td>\n",
       "      <td>6.5k</td>\n",
       "      <td>244</td>\n",
       "      <td>1.1k</td>\n",
       "      <td>2.2k</td>\n",
       "    </tr>\n",
       "    <tr>\n",
       "      <th>1</th>\n",
       "      <td>Temrin</td>\n",
       "      <td>Temrin</td>\n",
       "      <td>NaN</td>\n",
       "      <td>BC, Canada</td>\n",
       "      <td>http://www.wildelementstudios.com/</td>\n",
       "      <td>Freelance Anthro and Fantasy Artist\\nMy Patreo...</td>\n",
       "      <td>Artist</td>\n",
       "      <td>NaN</td>\n",
       "      <td>2017-08-11 20:07:00</td>\n",
       "      <td>2021-02-03 15:16:00</td>\n",
       "      <td>2021-01-31 15:15:00</td>\n",
       "      <td>924</td>\n",
       "      <td>ellie</td>\n",
       "      <td>member</td>\n",
       "      <td>554</td>\n",
       "      <td>3d</td>\n",
       "      <td>1h</td>\n",
       "      <td>813</td>\n",
       "      <td>8.4k</td>\n",
       "      <td>1.3k</td>\n",
       "      <td>18</td>\n",
       "      <td>782</td>\n",
       "      <td>1.4k</td>\n",
       "    </tr>\n",
       "    <tr>\n",
       "      <th>2</th>\n",
       "      <td>lisavollrath</td>\n",
       "      <td>Lisa Vollrath</td>\n",
       "      <td>NaN</td>\n",
       "      <td>NaN</td>\n",
       "      <td>NaN</td>\n",
       "      <td>On Patreon | Website | Facebook | Instagram | ...</td>\n",
       "      <td>NaN</td>\n",
       "      <td>NaN</td>\n",
       "      <td>2016-10-05 21:39:00</td>\n",
       "      <td>2021-01-31 12:06:00</td>\n",
       "      <td>2021-02-07 15:40:00</td>\n",
       "      <td>479</td>\n",
       "      <td>ellie</td>\n",
       "      <td>member</td>\n",
       "      <td>1.4k</td>\n",
       "      <td>2d</td>\n",
       "      <td>1h</td>\n",
       "      <td>1.1k</td>\n",
       "      <td>7.4k</td>\n",
       "      <td>71</td>\n",
       "      <td>8</td>\n",
       "      <td>246</td>\n",
       "      <td>710</td>\n",
       "    </tr>\n",
       "    <tr>\n",
       "      <th>3</th>\n",
       "      <td>Lochy</td>\n",
       "      <td>Angela Cross</td>\n",
       "      <td>NaN</td>\n",
       "      <td>NaN</td>\n",
       "      <td>http://patreon.com/AngelaCross</td>\n",
       "      <td>NaN</td>\n",
       "      <td>Fantasy comic artist</td>\n",
       "      <td>NaN</td>\n",
       "      <td>2016-10-11 05:56:00</td>\n",
       "      <td>2021-02-05 10:53:00</td>\n",
       "      <td>2021-02-05 10:53:00</td>\n",
       "      <td>668</td>\n",
       "      <td>ellie</td>\n",
       "      <td>member</td>\n",
       "      <td>472</td>\n",
       "      <td>4d</td>\n",
       "      <td>2h</td>\n",
       "      <td>850</td>\n",
       "      <td>8.5k</td>\n",
       "      <td>1.5k</td>\n",
       "      <td>14</td>\n",
       "      <td>406</td>\n",
       "      <td>705</td>\n",
       "    </tr>\n",
       "    <tr>\n",
       "      <th>4</th>\n",
       "      <td>reyna</td>\n",
       "      <td>Reyna G</td>\n",
       "      <td>Patreon Community Manager</td>\n",
       "      <td>San Francisco</td>\n",
       "      <td>NaN</td>\n",
       "      <td>Hiya! I’m Reyna, Community Manager at Patreon.</td>\n",
       "      <td>Community Manager</td>\n",
       "      <td>www.patreon.com</td>\n",
       "      <td>2020-04-07 14:17:00</td>\n",
       "      <td>2021-02-04 20:17:00</td>\n",
       "      <td>2021-02-05 21:49:00</td>\n",
       "      <td>823</td>\n",
       "      <td>ellie</td>\n",
       "      <td>leader</td>\n",
       "      <td>218</td>\n",
       "      <td>4d</td>\n",
       "      <td>19h</td>\n",
       "      <td>1.1k</td>\n",
       "      <td>7.6k</td>\n",
       "      <td>1.3k</td>\n",
       "      <td>68</td>\n",
       "      <td>455</td>\n",
       "      <td>621</td>\n",
       "    </tr>\n",
       "  </tbody>\n",
       "</table>\n",
       "</div>"
      ],
      "text/plain": [
       "       username       fullName                      title       location  \\\n",
       "0         mindy          Mindy                        NaN  San Francisco   \n",
       "1        Temrin         Temrin                        NaN     BC, Canada   \n",
       "2  lisavollrath  Lisa Vollrath                        NaN            NaN   \n",
       "3         Lochy   Angela Cross                        NaN            NaN   \n",
       "4         reyna        Reyna G  Patreon Community Manager  San Francisco   \n",
       "\n",
       "                              website  \\\n",
       "0                 http://patreon.com/   \n",
       "1  http://www.wildelementstudios.com/   \n",
       "2                                 NaN   \n",
       "3      http://patreon.com/AngelaCross   \n",
       "4                                 NaN   \n",
       "\n",
       "                                                 bio  \\\n",
       "0  Hi there! My name is Mindy and I work for Patr...   \n",
       "1  Freelance Anthro and Fantasy Artist\\nMy Patreo...   \n",
       "2  On Patreon | Website | Facebook | Instagram | ...   \n",
       "3                                                NaN   \n",
       "4     Hiya! I’m Reyna, Community Manager at Patreon.   \n",
       "\n",
       "                  creatorType       patreonURL              joined  \\\n",
       "0  Head of Community, Patreon      patreon.com 2018-06-11 19:38:00   \n",
       "1                      Artist              NaN 2017-08-11 20:07:00   \n",
       "2                         NaN              NaN 2016-10-05 21:39:00   \n",
       "3        Fantasy comic artist              NaN 2016-10-11 05:56:00   \n",
       "4           Community Manager  www.patreon.com 2020-04-07 14:17:00   \n",
       "\n",
       "           lastPosted            lastSeen  views invitedBy trustLevel  \\\n",
       "0 2020-07-23 20:43:00 2020-07-28 14:23:00   1651     carla     member   \n",
       "1 2021-02-03 15:16:00 2021-01-31 15:15:00    924     ellie     member   \n",
       "2 2021-01-31 12:06:00 2021-02-07 15:40:00    479     ellie     member   \n",
       "3 2021-02-05 10:53:00 2021-02-05 10:53:00    668     ellie     member   \n",
       "4 2021-02-04 20:17:00 2021-02-05 21:49:00    823     ellie     leader   \n",
       "\n",
       "  daysVisited readTime recentReadTime topicsViewed postsRead likesGiven  \\\n",
       "0         569       7d            NaN         2.0k     13.0k       6.5k   \n",
       "1         554       3d             1h          813      8.4k       1.3k   \n",
       "2        1.4k       2d             1h         1.1k      7.4k         71   \n",
       "3         472       4d             2h          850      8.5k       1.5k   \n",
       "4         218       4d            19h         1.1k      7.6k       1.3k   \n",
       "\n",
       "   topicsCreated postsCreated likesReceived  \n",
       "0            244         1.1k          2.2k  \n",
       "1             18          782          1.4k  \n",
       "2              8          246           710  \n",
       "3             14          406           705  \n",
       "4             68          455           621  "
      ]
     },
     "execution_count": 18,
     "metadata": {},
     "output_type": "execute_result"
    }
   ],
   "source": [
    "df.head()"
   ]
  },
  {
   "cell_type": "code",
   "execution_count": 21,
   "metadata": {},
   "outputs": [
    {
     "name": "stdout",
     "output_type": "stream",
     "text": [
      "<class 'pandas.core.frame.DataFrame'>\n",
      "RangeIndex: 6504 entries, 0 to 6503\n",
      "Data columns (total 23 columns):\n",
      " #   Column          Non-Null Count  Dtype         \n",
      "---  ------          --------------  -----         \n",
      " 0   username        6500 non-null   object        \n",
      " 1   fullName        6034 non-null   object        \n",
      " 2   title           93 non-null     object        \n",
      " 3   location        638 non-null    object        \n",
      " 4   website         705 non-null    object        \n",
      " 5   bio             568 non-null    object        \n",
      " 6   creatorType     5406 non-null   object        \n",
      " 7   patreonURL      4254 non-null   object        \n",
      " 8   joined          6504 non-null   datetime64[ns]\n",
      " 9   lastPosted      6504 non-null   datetime64[ns]\n",
      " 10  lastSeen        6504 non-null   datetime64[ns]\n",
      " 11  views           6504 non-null   int64         \n",
      " 12  invitedBy       6504 non-null   object        \n",
      " 13  trustLevel      6504 non-null   object        \n",
      " 14  daysVisited     6504 non-null   object        \n",
      " 15  readTime        6504 non-null   object        \n",
      " 16  recentReadTime  435 non-null    object        \n",
      " 17  topicsViewed    6504 non-null   object        \n",
      " 18  postsRead       6504 non-null   object        \n",
      " 19  likesGiven      6504 non-null   object        \n",
      " 20  topicsCreated   6504 non-null   int64         \n",
      " 21  postsCreated    6504 non-null   object        \n",
      " 22  likesReceived   6504 non-null   object        \n",
      "dtypes: datetime64[ns](3), int64(2), object(18)\n",
      "memory usage: 1.1+ MB\n"
     ]
    }
   ],
   "source": [
    "df.info()"
   ]
  },
  {
   "cell_type": "code",
   "execution_count": 20,
   "metadata": {},
   "outputs": [
    {
     "data": {
      "text/plain": [
       "Index(['username', 'fullName', 'title', 'location', 'website', 'bio',\n",
       "       'creatorType', 'patreonURL', 'joined', 'lastPosted', 'lastSeen',\n",
       "       'views', 'invitedBy', 'trustLevel', 'daysVisited', 'readTime',\n",
       "       'recentReadTime', 'topicsViewed', 'postsRead', 'likesGiven',\n",
       "       'topicsCreated', 'postsCreated', 'likesReceived'],\n",
       "      dtype='object')"
      ]
     },
     "execution_count": 20,
     "metadata": {},
     "output_type": "execute_result"
    }
   ],
   "source": [
    "df.columns"
   ]
  },
  {
   "cell_type": "code",
   "execution_count": 17,
   "metadata": {
    "scrolled": true
   },
   "outputs": [],
   "source": [
    "# some of the moderators/leaders had title related description in username\n",
    "df['username'] = df['username'].str.extract(r'^([^\\n]*).*')"
   ]
  },
  {
   "cell_type": "markdown",
   "metadata": {},
   "source": [
    "### Clean up time deltas"
   ]
  },
  {
   "cell_type": "code",
   "execution_count": 22,
   "metadata": {},
   "outputs": [],
   "source": [
    "td = ['readTime', 'recentReadTime']"
   ]
  },
  {
   "cell_type": "code",
   "execution_count": null,
   "metadata": {},
   "outputs": [],
   "source": [
    "def clean_td(td):\n",
    "    if "
   ]
  },
  {
   "cell_type": "code",
   "execution_count": null,
   "metadata": {},
   "outputs": [],
   "source": [
    "for i in td:\n",
    "    df[i] = df[i].apply(clean_td)"
   ]
  },
  {
   "cell_type": "markdown",
   "metadata": {},
   "source": [
    "### Clean up k variables"
   ]
  },
  {
   "cell_type": "code",
   "execution_count": null,
   "metadata": {},
   "outputs": [],
   "source": [
    "kvar = ['daysVisited', 'topicsViewed', 'postsRead', 'likesGiven', 'postsCreated', 'likesReceived']"
   ]
  },
  {
   "cell_type": "code",
   "execution_count": null,
   "metadata": {},
   "outputs": [],
   "source": [
    "def clean_k(kvar):\n",
    "    if i in kvar"
   ]
  }
 ],
 "metadata": {
  "kernelspec": {
   "display_name": "Python 3",
   "language": "python",
   "name": "python3"
  },
  "language_info": {
   "codemirror_mode": {
    "name": "ipython",
    "version": 3
   },
   "file_extension": ".py",
   "mimetype": "text/x-python",
   "name": "python",
   "nbconvert_exporter": "python",
   "pygments_lexer": "ipython3",
   "version": "3.8.5"
  }
 },
 "nbformat": 4,
 "nbformat_minor": 4
}
